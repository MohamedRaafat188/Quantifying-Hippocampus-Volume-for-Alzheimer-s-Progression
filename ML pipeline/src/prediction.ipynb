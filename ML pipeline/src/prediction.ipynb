{
 "cells": [
  {
   "cell_type": "code",
   "execution_count": 1,
   "metadata": {},
   "outputs": [],
   "source": [
    "from networks.UNets3D import UNet3D\n",
    "import matplotlib.pyplot as plt\n",
    "import torch\n",
    "import nibabel as nib\n",
    "import numpy as np\n",
    "from celluloid import Camera\n",
    "from IPython.display import HTML"
   ]
  },
  {
   "cell_type": "code",
   "execution_count": 2,
   "metadata": {},
   "outputs": [
    {
     "data": {
      "text/plain": [
       "<All keys matched successfully>"
      ]
     },
     "execution_count": 2,
     "metadata": {},
     "output_type": "execute_result"
    }
   ],
   "source": [
    "model = UNet3D(in_channels=1, out_channels=3, final_sigmoid=False)\n",
    "model.load_state_dict(torch.load(r\"D:\\Udacity\\Quantifying Hippocampus Volume for Alzheimer's Progression\\ML pipeline\\out\\best solution\\model.pth\"))"
   ]
  },
  {
   "cell_type": "code",
   "execution_count": 3,
   "metadata": {},
   "outputs": [],
   "source": [
    "def med_reshape(image, new_shape):\n",
    "    reshaped_image = np.zeros(new_shape)\n",
    "\n",
    "    size = image.shape\n",
    "    reshaped_image[:size[0], :size[1], :size[2]] = image\n",
    "\n",
    "    return reshaped_image"
   ]
  },
  {
   "cell_type": "code",
   "execution_count": 4,
   "metadata": {},
   "outputs": [],
   "source": [
    "def segment_hippocampus(model, volume_path):\n",
    "    volume = nib.load(volume_path).get_fdata()\n",
    "    reshaped_volume = med_reshape(volume, (48, 64, 64))\n",
    "    volume_tensor = torch.from_numpy(reshaped_volume.astype(np.single)/np.max(reshaped_volume)).unsqueeze(0).unsqueeze(0)\n",
    "    pred = model(volume_tensor)\n",
    "    pred = torch.squeeze(pred.detach())\n",
    "    pred = torch.argmax(pred, dim=0)\n",
    "    pred = pred.numpy()\n",
    "    pred = pred[: volume.shape[0], : volume.shape[1], : volume.shape[2]]\n",
    "    pred[pred > 0] = 1\n",
    "    volume_in_mm3 = np.sum(pred > 0)\n",
    "\n",
    "    fig = plt.figure()\n",
    "    camera = Camera(fig)\n",
    "    for i in range (volume.shape[0]):\n",
    "        plt.imshow(volume[i, :, :], cmap='bone')\n",
    "        mask = np.ma.masked_where (pred[i]==0, pred[i])\n",
    "        plt.imshow(mask, alpha=0.8, cmap='Wistia')\n",
    "        camera.snap()\n",
    "    \n",
    "    animation = camera.animate()\n",
    "    video = HTML(animation.save(\"hippocampus_segmentation.mp4\", writer=\"ffmpeg\", fps=10))\n",
    "\n",
    "    return video, volume_in_mm3"
   ]
  },
  {
   "cell_type": "code",
   "execution_count": 5,
   "metadata": {},
   "outputs": [
    {
     "name": "stderr",
     "output_type": "stream",
     "text": [
      "c:\\Users\\user\\anaconda3\\lib\\site-packages\\matplotlib\\image.py:446: UserWarning: Warning: converting a masked element to nan.\n",
      "  dv = np.float64(self.norm.vmax) - np.float64(self.norm.vmin)\n",
      "c:\\Users\\user\\anaconda3\\lib\\site-packages\\matplotlib\\image.py:453: UserWarning: Warning: converting a masked element to nan.\n",
      "  a_min = np.float64(newmin)\n",
      "c:\\Users\\user\\anaconda3\\lib\\site-packages\\matplotlib\\image.py:458: UserWarning: Warning: converting a masked element to nan.\n",
      "  a_max = np.float64(newmax)\n",
      "c:\\Users\\user\\anaconda3\\lib\\site-packages\\matplotlib\\image.py:477: UserWarning: Warning: converting a masked element to nan.\n",
      "  vrange = np.array([self.norm.vmin, self.norm.vmax],\n"
     ]
    },
    {
     "data": {
      "image/png": "[encoded data removed]",
      "text/plain": [
       "<Figure size 432x288 with 1 Axes>"
      ]
     },
     "metadata": {
      "needs_background": "light"
     },
     "output_type": "display_data"
    }
   ],
   "source": [
    "video, volume_in_mm3 = segment_hippocampus(model, r\"D:\\Udacity\\Quantifying Hippocampus Volume for Alzheimer's Progression\\data\\TrainingSet\\images\\hippocampus_001.nii.gz\")"
   ]
  },
  {
   "cell_type": "code",
   "execution_count": 6,
   "metadata": {},
   "outputs": [
    {
     "data": {
      "text/plain": [
       "3147"
      ]
     },
     "execution_count": 6,
     "metadata": {},
     "output_type": "execute_result"
    }
   ],
   "source": [
    "volume_in_mm3"
   ]
  }
 ],
 "metadata": {
  "interpreter": {
   "hash": "a077222d77dfe082b8f1dd562ad70e458ac2ab76993a0b248ab0476e32e9e8dd"
  },
  "kernelspec": {
   "display_name": "Python 3.8.5 ('base')",
   "language": "python",
   "name": "python3"
  },
  "language_info": {
   "codemirror_mode": {
    "name": "ipython",
    "version": 3
   },
   "file_extension": ".py",
   "mimetype": "text/x-python",
   "name": "python",
   "nbconvert_exporter": "python",
   "pygments_lexer": "ipython3",
   "version": "3.8.5"
  },
  "orig_nbformat": 4
 },
 "nbformat": 4,
 "nbformat_minor": 2
}
